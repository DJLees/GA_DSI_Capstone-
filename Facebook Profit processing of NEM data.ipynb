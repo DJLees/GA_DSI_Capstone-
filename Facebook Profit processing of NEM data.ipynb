{
 "cells": [
  {
   "cell_type": "code",
   "execution_count": null,
   "metadata": {},
   "outputs": [],
   "source": [
    "import pandas as pd\n",
    "import numpy as np\n",
    "import matplotlib.pyplot as plt\n",
    "import seaborn as sns\n",
    "import datetime\n",
    "\n",
    "sns.set_style('whitegrid')\n",
    "\n",
    "%matplotlib inline\n",
    "%config InlineBackend.figure_format = 'retina'"
   ]
  },
  {
   "cell_type": "code",
   "execution_count": null,
   "metadata": {},
   "outputs": [],
   "source": [
    "pd.plotting.register_matplotlib_converters()"
   ]
  },
  {
   "cell_type": "code",
   "execution_count": null,
   "metadata": {},
   "outputs": [],
   "source": [
    "data = pd.read_csv('./HalfHourly_Data.csv', index_col=0)\n"
   ]
  },
  {
   "cell_type": "code",
   "execution_count": null,
   "metadata": {},
   "outputs": [],
   "source": [
    "VIC_data = data[['VIC_PRICE','VIC_DEMAND', 'VIC_NETINTERCHANGE', 'VIC_BATTERY', 'VIC_BIOMASS',\n",
    "       'VIC_BLACK_COAL', 'VIC_BROWN_COAL', 'VIC_DISTILLATE', 'VIC_GAS_CCGT',\n",
    "       'VIC_GAS_OCGT', 'VIC_GAS_RECIP', 'VIC_GAS_STEAM', 'VIC_HYDRO',\n",
    "       'VIC_PUMPS', 'VIC_SOLAR', 'VIC_WIND','VIC_ROOFTOP_SOLAR']]"
   ]
  },
  {
   "cell_type": "code",
   "execution_count": null,
   "metadata": {},
   "outputs": [],
   "source": [
    "VIC_data.fillna(0, inplace=True)"
   ]
  },
  {
   "cell_type": "code",
   "execution_count": null,
   "metadata": {},
   "outputs": [],
   "source": [
    "VIC_data['VIC_Temp'] = data['VIC_TEMPERATURE']"
   ]
  },
  {
   "cell_type": "code",
   "execution_count": null,
   "metadata": {},
   "outputs": [],
   "source": [
    "plt.scatter(data[data['VIC_PRICE']<500][\"VIC_PRICE\"],data[data['VIC_PRICE']<500]['VIC_TEMPERATURE'],alpha=0.02)"
   ]
  },
  {
   "cell_type": "code",
   "execution_count": null,
   "metadata": {},
   "outputs": [],
   "source": [
    "plt.scatter(data[data['VIC_PRICE']<500][\"VIC_PRICE\"],data[data['VIC_PRICE']<500]['VIC_DEMAND'],alpha=0.01)"
   ]
  },
  {
   "cell_type": "code",
   "execution_count": null,
   "metadata": {},
   "outputs": [],
   "source": [
    "plt.scatter(data['VIC_DEMAND'],data['VIC_TEMPERATURE'],alpha=0.01)"
   ]
  },
  {
   "cell_type": "code",
   "execution_count": null,
   "metadata": {},
   "outputs": [],
   "source": [
    "from fbprophet import Prophet, diagnostics\n",
    "\n",
    "\n",
    "pd.set_option('use_inf_as_na', True)\n",
    "\n",
    "VIC_data['y'] = np.log1p(VIC_data['VIC_PRICE'])\n",
    "VIC_data['ds'] = VIC_data.index"
   ]
  },
  {
   "cell_type": "code",
   "execution_count": null,
   "metadata": {},
   "outputs": [],
   "source": [
    "m = Prophet()\n",
    "m.add_regressor('VIC_DEMAND', mode='multiplicative')\n",
    "m.add_regressor('VIC_NETINTERCHANGE', mode='multiplicative')\n",
    "m.add_regressor('VIC_WIND', mode='multiplicative')\n",
    "m.add_regressor('VIC_HYDRO', mode='multiplicative')\n",
    "m.add_regressor('VIC_ROOFTOP_SOLAR', mode='multiplicative')\n",
    "m.add_regressor('VIC_SOLAR', mode='multiplicative')\n",
    "m.add_regressor('VIC_GAS_OCGT', mode='multiplicative')\n",
    "m.add_regressor('VIC_BROWN_COAL', mode='multiplicative')\n",
    "m.add_regressor('VIC_GAS_STEAM', mode='multiplicative')\n",
    "\n",
    "m.fit(VIC_data)\n"
   ]
  },
  {
   "cell_type": "code",
   "execution_count": null,
   "metadata": {},
   "outputs": [],
   "source": [
    "\n",
    "#future = m.make_future_dataframe(periods=480)\n",
    "# future_forecast = m.predict(future)\n",
    "# m.plot(future)\n",
    "forecast = m.predict(VIC_data)"
   ]
  },
  {
   "cell_type": "code",
   "execution_count": null,
   "metadata": {},
   "outputs": [],
   "source": [
    "m.plot(forecast)"
   ]
  },
  {
   "cell_type": "code",
   "execution_count": null,
   "metadata": {},
   "outputs": [],
   "source": [
    "m2 = Prophet()\n",
    "\n",
    "forecast2 = m2.fit(VIC_data).predict(VIC_data)\n",
    "m2.plot(forecast2)"
   ]
  },
  {
   "cell_type": "code",
   "execution_count": null,
   "metadata": {},
   "outputs": [],
   "source": [
    "m.plot_components(forecast);"
   ]
  },
  {
   "cell_type": "code",
   "execution_count": null,
   "metadata": {},
   "outputs": [],
   "source": [
    "m2.plot_components(forecast2);"
   ]
  },
  {
   "cell_type": "code",
   "execution_count": null,
   "metadata": {
    "scrolled": false
   },
   "outputs": [],
   "source": [
    "VIC_data.VIC_PRICE.plot()\n",
    "np.exp(forecast['yhat']).plot()\n",
    "np.exp(forecast2['yhat']).plot(figsize=(20,5))\n",
    "plt.ylim(0,400)\n"
   ]
  },
  {
   "cell_type": "code",
   "execution_count": null,
   "metadata": {},
   "outputs": [],
   "source": [
    "forecast = forecast.set_index('ds')\n"
   ]
  },
  {
   "cell_type": "code",
   "execution_count": null,
   "metadata": {},
   "outputs": [],
   "source": [
    "\n",
    "VIC_forecast_ohlc = np.exp(forecast['yhat']).resample('3H').ohlc()"
   ]
  },
  {
   "cell_type": "code",
   "execution_count": null,
   "metadata": {},
   "outputs": [],
   "source": [
    "Forecast_price =  np.exp((forecast['yhat'].resample('D').mean()))\n"
   ]
  },
  {
   "cell_type": "code",
   "execution_count": null,
   "metadata": {},
   "outputs": [],
   "source": [
    "pd.plotting.register_matplotlib_converters()\n",
    "Forecast_price.plot()\n"
   ]
  },
  {
   "cell_type": "markdown",
   "metadata": {},
   "source": [
    "## Running the model on NSW Data\n",
    "\n",
    "In order to test that the modelling method is not exclusive to the Victorian Market, it was tested on NSW data as well."
   ]
  },
  {
   "cell_type": "code",
   "execution_count": null,
   "metadata": {},
   "outputs": [],
   "source": [
    "NSW_data = data[['NSW_DEMAND', 'NSW_NETINTERCHANGE', 'NSW_BATTERY',\n",
    "       'NSW_BIOMASS', 'NSW_BLACK_COAL', 'NSW_BROWN_COAL', 'NSW_DISTILLATE',\n",
    "       'NSW_GAS_CCGT', 'NSW_GAS_OCGT', 'NSW_GAS_RECIP', 'NSW_GAS_STEAM',\n",
    "       'NSW_HYDRO', 'NSW_PUMPS', 'NSW_SOLAR', 'NSW_WIND', 'NSW_ROOFTOP_SOLAR', 'NSW_TEMPERATURE']]\n",
    "NSW_data['y'] = np.log1p(data['NSW_PRICE'])\n",
    "NSW_data['ds'] = data.index\n",
    "NSW_data.fillna(0, inplace=True)\n"
   ]
  },
  {
   "cell_type": "code",
   "execution_count": null,
   "metadata": {},
   "outputs": [],
   "source": [
    "m_nsw = Prophet()\n",
    "m_nsw.add_regressor('NSW_DEMAND', mode='additive')\n",
    "m_nsw.add_regressor('NSW_NETINTERCHANGE', mode='additive')\n",
    "m_nsw.add_regressor('NSW_BLACK_COAL', mode='additive')\n",
    "m_nsw.add_regressor('NSW_ROOFTOP_SOLAR', mode='additive')\n",
    "m_nsw.add_regressor('NSW_HYDRO', mode='additive')\n",
    "m_nsw.add_regressor('NSW_PUMPS', mode='additive')\n",
    "m_nsw.add_regressor('NSW_DISTILLATE', mode='additive')\n",
    "m_nsw.add_regressor('NSW_GAS_CCGT', mode='additive')\n",
    "m_nsw.add_regressor('NSW_GAS_OCGT', mode='additive')\n",
    "m_nsw.add_regressor('NSW_WIND', mode='additive')\n",
    "m_nsw.add_regressor('NSW_TEMPERATURE', mode='additive')\n",
    "forecast_nsw = m_nsw.fit(NSW_data).predict(NSW_data)\n",
    "m_nsw.plot(forecast_nsw)\n",
    "\n"
   ]
  },
  {
   "cell_type": "code",
   "execution_count": null,
   "metadata": {},
   "outputs": [],
   "source": [
    "\n",
    "NSW_data['y'].plot(figsize=(20,5))\n",
    "forecast_nsw['yhat'].plot()"
   ]
  },
  {
   "cell_type": "code",
   "execution_count": null,
   "metadata": {},
   "outputs": [],
   "source": [
    "np.exp(NSW_data.y).plot()\n",
    "np.exp(forecast_nsw['yhat']).plot(figsize=(20,5))\n",
    "plt.ylim(0,400)\n"
   ]
  },
  {
   "cell_type": "code",
   "execution_count": null,
   "metadata": {
    "scrolled": false
   },
   "outputs": [],
   "source": [
    "m_nsw.plot_components(forecast_nsw);"
   ]
  },
  {
   "cell_type": "code",
   "execution_count": null,
   "metadata": {},
   "outputs": [],
   "source": [
    "\n",
    "((np.exp(forecast_nsw['yhat']))*1).hist(range=(0,300), figsize = (10,6))"
   ]
  },
  {
   "cell_type": "code",
   "execution_count": null,
   "metadata": {},
   "outputs": [],
   "source": [
    "((np.exp(NSW_data.y))*1).hist(range=(0,300), figsize = (10,6))"
   ]
  },
  {
   "cell_type": "markdown",
   "metadata": {},
   "source": [
    "## Test with unseen data\n",
    "This is to test the first model (m) with a datset that the model has not seen before. This is data from the past 7 days for Victoria. Thus not only has the data not been seen, it also disconnected from the timeseries!\n"
   ]
  },
  {
   "cell_type": "code",
   "execution_count": null,
   "metadata": {},
   "outputs": [],
   "source": [
    "VIC_test_data = pd.read_csv('./VictoriaNOV2019.csv')\n"
   ]
  },
  {
   "cell_type": "code",
   "execution_count": null,
   "metadata": {},
   "outputs": [],
   "source": [
    "VIC_test_data['ds'] = pd.to_datetime(VIC_test_data['ds']) \n",
    "VIC_test_data.dropna(inplace = True)\n",
    "VIC_test_data['y'] = np.log1p(VIC_test_data['y'])"
   ]
  },
  {
   "cell_type": "code",
   "execution_count": null,
   "metadata": {},
   "outputs": [],
   "source": [
    "VIC_test_data\n"
   ]
  },
  {
   "cell_type": "code",
   "execution_count": null,
   "metadata": {},
   "outputs": [],
   "source": [
    "forecast_test = m.predict(VIC_test_data)"
   ]
  },
  {
   "cell_type": "code",
   "execution_count": null,
   "metadata": {},
   "outputs": [],
   "source": [
    "VIC_test_data.y.plot()\n",
    "forecast_test['yhat'].plot()\n"
   ]
  },
  {
   "cell_type": "code",
   "execution_count": null,
   "metadata": {},
   "outputs": [],
   "source": [
    "np.exp(VIC_test_data.y).plot()\n",
    "np.exp(forecast_test['yhat']).plot()"
   ]
  },
  {
   "cell_type": "code",
   "execution_count": null,
   "metadata": {},
   "outputs": [],
   "source": [
    "from scipy.stats import pearsonr, spearmanr, kendalltau\n",
    "pcorr, _ = pearsonr((VIC_test_data.y),(forecast_test['yhat'])) \n",
    "\n",
    "print(\"Pearson Corr:\", pcorr)\n",
    "scorr, _ = spearmanr((VIC_test_data.y),(forecast_test['yhat']))\n",
    "print(\"Spearman Corr:\", scorr)\n",
    "kcorr, _ = kendalltau((VIC_test_data.y),(forecast_test['yhat']))\n",
    "print(\"Kendall tau Corr:\", kcorr)\n"
   ]
  },
  {
   "cell_type": "markdown",
   "metadata": {},
   "source": [
    "### I think it might need more work! :)\n",
    "\n",
    "Let's see if the New South Wales model is better.\n"
   ]
  },
  {
   "cell_type": "code",
   "execution_count": null,
   "metadata": {},
   "outputs": [],
   "source": [
    "NSW_test_data = pd.read_csv('./NSW_test_dataNOV2019.csv')\n",
    "NSW_test_data['ds'] = pd.to_datetime(NSW_test_data['ds']) \n",
    "NSW_test_data.dropna(inplace = True)\n",
    "NSW_test_data['y'] = np.log1p(NSW_test_data['y'])"
   ]
  },
  {
   "cell_type": "code",
   "execution_count": null,
   "metadata": {},
   "outputs": [],
   "source": [
    "forecast_test_nsw = m_nsw.predict(NSW_test_data)"
   ]
  },
  {
   "cell_type": "code",
   "execution_count": null,
   "metadata": {},
   "outputs": [],
   "source": [
    "np.exp(NSW_test_data.y).plot(figsize = (16,8), y = NSW_test_data.ds)\n",
    "(np.exp(forecast_test_nsw['yhat'])).plot(figsize = (16,8))\n"
   ]
  },
  {
   "cell_type": "code",
   "execution_count": null,
   "metadata": {},
   "outputs": [],
   "source": [
    " NSW_test_data.set_index('ds')"
   ]
  },
  {
   "cell_type": "code",
   "execution_count": null,
   "metadata": {},
   "outputs": [],
   "source": [
    "from scipy.stats import pearsonr, spearmanr"
   ]
  },
  {
   "cell_type": "code",
   "execution_count": null,
   "metadata": {},
   "outputs": [],
   "source": [
    "plt.scatter(np.exp(NSW_test_data.y),(np.exp(forecast_test_nsw['yhat'])))"
   ]
  },
  {
   "cell_type": "code",
   "execution_count": null,
   "metadata": {},
   "outputs": [],
   "source": [
    "from scipy.stats import pearsonr, spearmanr, kendalltau\n",
    "pcorr, _ = pearsonr((NSW_test_data.y),(forecast_test_nsw['yhat'])) \n",
    "print(\"Pearson Corr:\", pcorr)\n",
    "scorr, _ = spearmanr((NSW_test_data.y),(forecast_test_nsw['yhat']))\n",
    "print(\"Spearman Corr:\", scorr)\n",
    "kcorr, _ = kendalltau((NSW_test_data.y),(forecast_test_nsw['yhat']))\n",
    "print(\"Kendall tau Corr:\", kcorr)"
   ]
  },
  {
   "cell_type": "code",
   "execution_count": null,
   "metadata": {},
   "outputs": [],
   "source": [
    "NSW_data_demand = NSW_data\n",
    "NSW_data_demand['PRICE'] = NSW_data['y']\n",
    "NSW_data_demand['y'] = NSW_data[\"NSW_DEMAND\"]"
   ]
  },
  {
   "cell_type": "code",
   "execution_count": null,
   "metadata": {},
   "outputs": [],
   "source": [
    "\n",
    "m_nsw_demand = Prophet()\n",
    "forecast_nsw_demand = m_nsw_demand.fit(NSW_data_demand).predict(NSW_data)\n",
    "m_nsw_demand.plot(forecast_nsw_demand);\n"
   ]
  },
  {
   "cell_type": "code",
   "execution_count": null,
   "metadata": {},
   "outputs": [],
   "source": [
    "\n",
    "m_nsw_demand.plot(forecast_nsw_demand);\n"
   ]
  },
  {
   "cell_type": "code",
   "execution_count": null,
   "metadata": {},
   "outputs": [],
   "source": []
  },
  {
   "cell_type": "code",
   "execution_count": null,
   "metadata": {},
   "outputs": [],
   "source": [
    "NSW_test_data[\"charge\"] =  (np.exp(NSW_test_data.y)<50)*1\n",
    "forecast_test_nsw[\"charge\"] = (np.exp(forecast_test_nsw['yhat'])<50).astype(int)"
   ]
  },
  {
   "cell_type": "code",
   "execution_count": null,
   "metadata": {},
   "outputs": [],
   "source": [
    "NSW_test_data['charge'].plot()\n",
    "forecast_test_nsw[\"charge\"].plot()"
   ]
  },
  {
   "cell_type": "code",
   "execution_count": null,
   "metadata": {},
   "outputs": [],
   "source": [
    "import statsmodels.api as sm\n",
    "sm.graphics.tsa.plot_acf(NSW_data['y'], lags=350, alpha=0.2)\n",
    "\n",
    "sm.graphics.tsa.plot_pacf(NSW_data['y'], lags=350, alpha=0.2)\n"
   ]
  },
  {
   "cell_type": "code",
   "execution_count": null,
   "metadata": {},
   "outputs": [],
   "source": [
    "sm.graphics.tsa.plot_acf(VIC_data['VIC_PRICE'], lags=350, alpha=0.2);\n",
    "\n",
    "sm.graphics.tsa.plot_pacf(VIC_data['VIC_PRICE'], lags=350, alpha=0.2);\n"
   ]
  },
  {
   "cell_type": "markdown",
   "metadata": {},
   "source": [
    "## Now for a bit more "
   ]
  },
  {
   "cell_type": "code",
   "execution_count": null,
   "metadata": {},
   "outputs": [],
   "source": [
    "NSW_data['y'] = NSW_data_demand['PRICE'] "
   ]
  },
  {
   "cell_type": "code",
   "execution_count": null,
   "metadata": {},
   "outputs": [],
   "source": [
    "NSW_data[['y']]\n",
    "\n"
   ]
  },
  {
   "cell_type": "code",
   "execution_count": null,
   "metadata": {},
   "outputs": [],
   "source": [
    "forecast_test_nsw"
   ]
  },
  {
   "cell_type": "code",
   "execution_count": null,
   "metadata": {},
   "outputs": [],
   "source": [
    "from sklearn.model_selection import TimeSeriesSplit"
   ]
  },
  {
   "cell_type": "code",
   "execution_count": null,
   "metadata": {},
   "outputs": [],
   "source": [
    "tscv = TimeSeriesSplit(max_train_size=48*30*30,n_splits=2)"
   ]
  },
  {
   "cell_type": "code",
   "execution_count": null,
   "metadata": {},
   "outputs": [],
   "source": [
    "NSW_data['y'].shape"
   ]
  },
  {
   "cell_type": "code",
   "execution_count": null,
   "metadata": {},
   "outputs": [],
   "source": [
    "21936//672"
   ]
  },
  {
   "cell_type": "code",
   "execution_count": null,
   "metadata": {
    "scrolled": false
   },
   "outputs": [],
   "source": [
    "train_df=NSW_data.reset_index(drop=True)\n",
    "X_train = pd.DataFrame()\n",
    "X_test = pd.DataFrame()\n",
    "\n",
    "model = Prophet()\n",
    "\n",
    "for train_index,test_index in tscv.split(train_df):\n",
    "    \n",
    "    print(train_df.iloc[train_index].shape,train_df.iloc[test_index].shape)\n",
    "    X_train[['y','ds']] = train_df.iloc[train_index][['y','ds']]\n",
    "    X_test[['y','ds']] = train_df.iloc[test_index][['y','ds']]\n",
    "    X_train_predict = model.fit(X_train).predict(X_train)\n",
    "    \n",
    "    \n",
    "    future = model.make_future_dataframe(periods=40)\n",
    "    forecast = model.predict(future)\n",
    "    break\n",
    "#     print(X_test.columns)\n",
    "    "
   ]
  },
  {
   "cell_type": "code",
   "execution_count": null,
   "metadata": {
    "scrolled": false
   },
   "outputs": [],
   "source": [
    "from fbprophet.plot import plot_forecast_component,plot,add_changepoints_to_plot\n",
    "\n",
    "ax =model.plot(forecast)\n",
    "add_changepoints_to_plot(ax.gca(),model,forecast)\n",
    "# (forecast)\n",
    "# plt.plot(X_test['y'])"
   ]
  },
  {
   "cell_type": "code",
   "execution_count": null,
   "metadata": {},
   "outputs": [],
   "source": [
    "import holidays\n"
   ]
  },
  {
   "cell_type": "code",
   "execution_count": null,
   "metadata": {},
   "outputs": [],
   "source": [
    "au_holidays = holidays.CountryHoliday('Australia',prov='NSW')"
   ]
  },
  {
   "cell_type": "code",
   "execution_count": null,
   "metadata": {},
   "outputs": [],
   "source": [
    "# from datetime import date,datetime\n",
    "from datetime import datetime"
   ]
  },
  {
   "cell_type": "code",
   "execution_count": null,
   "metadata": {},
   "outputs": [],
   "source": [
    "train_timestamps = pd.to_datetime(X_train['ds'])\n",
    "(train_timestamps[0].date(),train_timestamps.iloc[-1].date())\n",
    "# ,X_train['ds'][-1])"
   ]
  },
  {
   "cell_type": "code",
   "execution_count": null,
   "metadata": {
    "scrolled": false
   },
   "outputs": [],
   "source": [
    "#[date for date in train_timestamps if date.date() in au_holidays]"
   ]
  },
  {
   "cell_type": "code",
   "execution_count": null,
   "metadata": {},
   "outputs": [],
   "source": [
    "pd.plotting.register_matplotlib_converters()\n",
    "\n",
    "\n",
    "# forecast_ts = forecast.set_index('ds')\n",
    "# forecast_ts['yhat_actual'] = X_test.set_index('ds')\n",
    "# X_train[['ds']]\n",
    "X_test.ds = pd.to_datetime(X_test.ds)"
   ]
  },
  {
   "cell_type": "code",
   "execution_count": null,
   "metadata": {},
   "outputs": [],
   "source": [
    "forecast_total = forecast.merge(X_test.rename(columns={'y':'yhat_actual'}),on='ds',how='left')"
   ]
  },
  {
   "cell_type": "code",
   "execution_count": null,
   "metadata": {},
   "outputs": [],
   "source": [
    "forecast_total.set_index('ds')[['yhat','yhat_actual']].plot()"
   ]
  },
  {
   "cell_type": "code",
   "execution_count": null,
   "metadata": {},
   "outputs": [],
   "source": [
    "X_test.shape"
   ]
  },
  {
   "cell_type": "code",
   "execution_count": null,
   "metadata": {},
   "outputs": [],
   "source": [
    "future.shape"
   ]
  },
  {
   "cell_type": "markdown",
   "metadata": {},
   "source": [
    "\n",
    "## OHLC Plotting"
   ]
  },
  {
   "cell_type": "code",
   "execution_count": null,
   "metadata": {},
   "outputs": [],
   "source": [
    "NSW_data.index = pd.to_datetime(NSW_data.index)\n",
    "NSW_data_OHLC = np.exp(NSW_data[\"y\"]).resample('D').ohlc()\n",
    "\n",
    "#daily_mean[\"VIC_PRICE\"] = data[\"VIC_PRICE\"].resample('D').mean()"
   ]
  },
  {
   "cell_type": "code",
   "execution_count": null,
   "metadata": {},
   "outputs": [],
   "source": [
    "NSW_data_OHLC"
   ]
  },
  {
   "cell_type": "code",
   "execution_count": null,
   "metadata": {
    "scrolled": true
   },
   "outputs": [],
   "source": [
    "import plotly.graph_objects as go\n",
    "\n"
   ]
  },
  {
   "cell_type": "code",
   "execution_count": null,
   "metadata": {},
   "outputs": [],
   "source": [
    "fig = go.Figure(data=[go.Candlestick(x=NSW_data_OHLC.index,\n",
    "                open=NSW_data_OHLC['open'],\n",
    "                high=NSW_data_OHLC['high'],\n",
    "                low=NSW_data_OHLC['low'],\n",
    "                close=NSW_data_OHLC['close'])])\n",
    "\n",
    "fig.update(layout_xaxis_rangeslider_visible=False)\n",
    "fig.show()"
   ]
  },
  {
   "cell_type": "code",
   "execution_count": null,
   "metadata": {},
   "outputs": [],
   "source": [
    "fig = go.Figure(data=[go.Ohlc(x=NSW_data_OHLC.index,\n",
    "                open=NSW_data_OHLC['open'],\n",
    "                high=NSW_data_OHLC['high'],\n",
    "                low=NSW_data_OHLC['low'],\n",
    "                close=NSW_data_OHLC['close'])])\n",
    "\n",
    "fig.update(layout_xaxis_rangeslider_visible=False)\n",
    "fig.show()"
   ]
  },
  {
   "cell_type": "code",
   "execution_count": null,
   "metadata": {},
   "outputs": [],
   "source": []
  },
  {
   "cell_type": "code",
   "execution_count": null,
   "metadata": {},
   "outputs": [],
   "source": [
    "VIC_data.index = pd.to_datetime(VIC_data.index)\n",
    "VIC_data_OHLC = np.exp(VIC_data[\"y\"]).resample('3H').ohlc()"
   ]
  },
  {
   "cell_type": "code",
   "execution_count": null,
   "metadata": {},
   "outputs": [],
   "source": [
    "fig = go.Figure(data=[go.Ohlc(x=VIC_data_OHLC.index,\n",
    "                open=VIC_data_OHLC['open'],\n",
    "                high=VIC_data_OHLC['high'],\n",
    "                low=VIC_data_OHLC['low'],\n",
    "                close=VIC_data_OHLC['close'])])\n",
    "\n",
    "fig.update(layout_xaxis_rangeslider_visible=False)\n",
    "fig.show()"
   ]
  },
  {
   "cell_type": "markdown",
   "metadata": {},
   "source": [
    "\n"
   ]
  },
  {
   "cell_type": "code",
   "execution_count": null,
   "metadata": {},
   "outputs": [],
   "source": [
    "nsw_low = Prophet()\n",
    "\n",
    "NSW_data_OHLC['y'] = NSW_data_OHLC['low']\n",
    "NSW_data_OHLC['ds'] = NSW_data_OHLC.index\n",
    "\n",
    "nsw_low.fit(NSW_data_OHLC)\n",
    "\n",
    "future = nsw_low.make_future_dataframe(periods=40)\n",
    "forecast_low = nsw_low.predict(future)\n",
    "nsw_low.plot(forecast_low) ;"
   ]
  },
  {
   "cell_type": "code",
   "execution_count": null,
   "metadata": {},
   "outputs": [],
   "source": [
    "nsw_high = Prophet()\n",
    "\n",
    "NSW_data_OHLC['y'] = NSW_data_OHLC['high']\n",
    "NSW_data_OHLC['ds'] = NSW_data_OHLC.index\n",
    "\n",
    "nsw_high.fit(NSW_data_OHLC)\n",
    "\n",
    "future = nsw_high.make_future_dataframe(periods=40)\n",
    "forecast_high = nsw_high.predict(future)\n",
    "nsw_high.plot(forecast_high) ;"
   ]
  },
  {
   "cell_type": "code",
   "execution_count": null,
   "metadata": {},
   "outputs": [],
   "source": [
    "nsw_close = Prophet()\n",
    "\n",
    "NSW_data_OHLC['y'] = NSW_data_OHLC['close']\n",
    "NSW_data_OHLC['ds'] = NSW_data_OHLC.index\n",
    "\n",
    "nsw_close.fit(NSW_data_OHLC)\n",
    "\n",
    "future = nsw_close.make_future_dataframe(periods=40)\n",
    "forecast_close = nsw_close.predict(future)\n",
    "nsw_close.plot(forecast_close) ;\n",
    "#forecast_total = forecast.merge(X_test.rename(columns={'y':'yhat_actual'}),on='ds',how='left')"
   ]
  },
  {
   "cell_type": "code",
   "execution_count": null,
   "metadata": {},
   "outputs": [],
   "source": [
    "nsw_open = Prophet()\n",
    "\n",
    "NSW_data_OHLC['y'] = NSW_data_OHLC['open']\n",
    "NSW_data_OHLC['ds'] = NSW_data_OHLC.index\n",
    "\n",
    "nsw_open.fit(NSW_data_OHLC)\n",
    "\n",
    "future = nsw_open.make_future_dataframe(periods=40)\n",
    "forecast_open = nsw_open.predict(future)\n",
    "nsw_open.plot(forecast_open) ;"
   ]
  },
  {
   "cell_type": "code",
   "execution_count": null,
   "metadata": {},
   "outputs": [],
   "source": [
    "fig = go.Figure(data=[go.Ohlc(x=forecast_high.ds,\n",
    "                open=forecast_open['yhat'],\n",
    "                high=forecast_high['yhat'],\n",
    "                low=forecast_low['yhat'],\n",
    "                close=forecast_close['yhat'])])\n",
    "\n",
    "fig2 = go.Figure(data=[go.Ohlc(x=NSW_data_OHLC.index,\n",
    "                open=NSW_data_OHLC['open'],\n",
    "                high=NSW_data_OHLC['high'],\n",
    "                low=NSW_data_OHLC['low'],\n",
    "                close=NSW_data_OHLC['close'])])\n",
    "\n",
    "fig.update(layout_xaxis_rangeslider_visible=False)\n",
    "fig.show()\n",
    "fig2.update(layout_xaxis_rangeslider_visible=False)\n",
    "fig2.show()"
   ]
  },
  {
   "cell_type": "markdown",
   "metadata": {},
   "source": [
    "Nope, that is rubbish\n",
    "\n",
    "## Good Version of OHLC and Candlesticks\n"
   ]
  },
  {
   "cell_type": "code",
   "execution_count": null,
   "metadata": {},
   "outputs": [],
   "source": [
    "forecast_nsw.index = forecast_nsw.ds\n",
    "NSW_forecast_ohlc = np.exp(forecast_nsw['yhat']).resample('6H').ohlc()\n"
   ]
  },
  {
   "cell_type": "code",
   "execution_count": null,
   "metadata": {},
   "outputs": [],
   "source": [
    "fig = go.Figure(data=[go.Ohlc(x=NSW_forecast_ohlc.index,\n",
    "                open=NSW_forecast_ohlc['open'],\n",
    "                high=NSW_forecast_ohlc['high'],\n",
    "                low=NSW_forecast_ohlc['low'],\n",
    "                close=NSW_forecast_ohlc['close'])])\n",
    "\n",
    "fig2 = go.Figure(data=[go.Ohlc(x=NSW_data_OHLC.index,\n",
    "                open=NSW_data_OHLC['open'],\n",
    "                high=NSW_data_OHLC['high'],\n",
    "                low=NSW_data_OHLC['low'],\n",
    "                close=NSW_data_OHLC['close'])])\n",
    "\n",
    "fig.update(layout_xaxis_rangeslider_visible=False)\n",
    "fig.show()\n",
    "fig2.update(layout_xaxis_rangeslider_visible=False)\n",
    "fig2.show()"
   ]
  },
  {
   "cell_type": "code",
   "execution_count": null,
   "metadata": {},
   "outputs": [],
   "source": [
    "fig = go.Figure(data=[go.Candlestick(x=NSW_forecast_ohlc.index,\n",
    "                open=NSW_forecast_ohlc['open'],\n",
    "                high=NSW_forecast_ohlc['high'],\n",
    "                low=NSW_forecast_ohlc['low'],\n",
    "                close=NSW_forecast_ohlc['close'],\n",
    "                increasing_line_color= 'lightgreen', decreasing_line_color= 'pink')])\n",
    "\n",
    "fig.update_layout(\n",
    "    title='Forecast New South Wales Price',\n",
    "    yaxis_title='Price per MWHr')\n",
    "\n",
    "\n",
    "fig2 = go.Figure(data=[go.Candlestick(x=NSW_data_OHLC.index,\n",
    "                open=NSW_data_OHLC['open'],\n",
    "                high=NSW_data_OHLC['high'],\n",
    "                low=NSW_data_OHLC['low'],\n",
    "                close=NSW_data_OHLC['close'])])\n",
    "\n",
    "fig2.update_layout(\n",
    "    title='Actual New South Wales Price',\n",
    "    yaxis_title='Price per MWHr')\n",
    "\n",
    "fig.update(layout_xaxis_rangeslider_visible=False)\n",
    "fig.show()\n",
    "fig2.update(layout_xaxis_rangeslider_visible=False)\n",
    "fig2.show()"
   ]
  },
  {
   "cell_type": "code",
   "execution_count": null,
   "metadata": {},
   "outputs": [],
   "source": [
    "fig_vic = go.Figure(data=[go.Candlestick(x=VIC_forecast_ohlc.index,\n",
    "                open=VIC_forecast_ohlc['open'],\n",
    "                high=VIC_forecast_ohlc['high'],\n",
    "                low=VIC_forecast_ohlc['low'],\n",
    "                close=VIC_forecast_ohlc['close'],\n",
    "                increasing_line_color= 'lightgreen', decreasing_line_color= 'pink')])\n",
    "\n",
    "fig_vic.update_layout(\n",
    "    title='Forecast Victorian Price',\n",
    "    yaxis_title='Price per MWHr')\n",
    "\n",
    "fig2_vic = go.Figure(data=[go.Candlestick(x=VIC_data_OHLC.index,\n",
    "                open=VIC_data_OHLC['open'],\n",
    "                high=VIC_data_OHLC['high'],\n",
    "                low=VIC_data_OHLC['low'],\n",
    "                close=VIC_data_OHLC['close'])])\n",
    "\n",
    "fig2_vic.update_layout(\n",
    "    title='Actual Victorian Price',\n",
    "    yaxis_title='Price per MWHr')\n",
    "\n",
    "fig_vic.update(layout_xaxis_rangeslider_visible=False)\n",
    "fig_vic.show()\n",
    "fig2_vic.update(layout_xaxis_rangeslider_visible=False)\n",
    "fig2_vic.show()"
   ]
  },
  {
   "cell_type": "code",
   "execution_count": null,
   "metadata": {},
   "outputs": [],
   "source": [
    "import plotly.express as px\n",
    "\n",
    "\n",
    "fig_test = go.Figure(data=go.Scatter(x=NSW_test_data.ds, y=np.exp(NSW_test_data.y),name='Actual Price'))\n",
    "fig_test.add_trace(go.Scatter(x=NSW_test_data.ds, y=np.exp(forecast_test_nsw['yhat']),\n",
    "                    mode='lines',\n",
    "                    name='Modelled'))\n",
    "fig_test.update_layout(title='NSW Wholesale Price for the past two weeks',\n",
    "                   yaxis_title='Price per MWHr')\n",
    "fig_test.show()"
   ]
  },
  {
   "cell_type": "code",
   "execution_count": null,
   "metadata": {},
   "outputs": [],
   "source": [
    "forecast_test_nsw.index = forecast_test_nsw.ds\n",
    "NSW_test_ohlc = np.exp(forecast_test_nsw['yhat']).resample('3H').ohlc()"
   ]
  },
  {
   "cell_type": "code",
   "execution_count": null,
   "metadata": {},
   "outputs": [],
   "source": [
    "fig_test_nsw = go.Figure(data=[go.Candlestick(x=NSW_test_ohlc.index,\n",
    "                open=NSW_test_ohlc['open'],\n",
    "                high=NSW_test_ohlc['high'],\n",
    "                low=NSW_test_ohlc['low'],\n",
    "                close=NSW_test_ohlc['close'], showlegend = False)])\n",
    "fig_test_nsw.update_layout(title='NSW Wholesale Price for the past two weeks',\n",
    "                   yaxis_title='Price per MWHr')\n",
    "fig_test_nsw.add_trace(go.Scatter(x=NSW_test_data.ds, y=np.exp(NSW_test_data.y), name='Actual Price', \n",
    "                                  line=dict(color=\"black\",width=1, dash='dot'), showlegend = False))\n",
    "fig_test_nsw.update(layout_xaxis_rangeslider_visible=False)\n",
    "fig_test_nsw.show()"
   ]
  },
  {
   "cell_type": "code",
   "execution_count": null,
   "metadata": {},
   "outputs": [],
   "source": []
  }
 ],
 "metadata": {
  "kernelspec": {
   "display_name": "Python 3",
   "language": "python",
   "name": "python3"
  },
  "language_info": {
   "codemirror_mode": {
    "name": "ipython",
    "version": 3
   },
   "file_extension": ".py",
   "mimetype": "text/x-python",
   "name": "python",
   "nbconvert_exporter": "python",
   "pygments_lexer": "ipython3",
   "version": "3.7.3"
  }
 },
 "nbformat": 4,
 "nbformat_minor": 2
}
