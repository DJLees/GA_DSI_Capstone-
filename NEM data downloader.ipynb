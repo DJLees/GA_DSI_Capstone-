{
 "cells": [
  {
   "cell_type": "markdown",
   "metadata": {},
   "source": [
    "This cell configures the local drive so that the module loaded in the next cell can run."
   ]
  },
  {
   "cell_type": "code",
   "execution_count": null,
   "metadata": {},
   "outputs": [],
   "source": [
    "import os\n",
    "import sys\n",
    "sys.path.append('C:\\\\Users\\\\david\\GeneralAssembly\\\\capstone\\\\opennem')\n",
    "\n",
    "\n",
    "import nemweb\n",
    "from nemweb import CONFIG\n",
    "import os\n",
    "\n",
    "db_path = os.path.join(\n",
    "    CONFIG['local_settings']['sqlite_dir'], 'test.db')\n",
    "db_path\n",
    "\n",
    "import os\n",
    "if os.path.exists(db_path):\n",
    "    os.remove(db_path)\n",
    "    print('removed ')"
   ]
  },
  {
   "cell_type": "markdown",
   "metadata": {},
   "source": [
    "This opens a modelude produced by OpenNEM that allows the download of the data from their website.  "
   ]
  },
  {
   "cell_type": "code",
   "execution_count": null,
   "metadata": {},
   "outputs": [],
   "source": [
    "import opennempy\n",
    "from nemweb import configparser\n",
    "from opennempy import config\n",
    "LOCAL_DIR = os.path.expanduser(\"~\")\n",
    "config.read(os.path.join(LOCAL_DIR, '.nemweb_config.ini'))\n",
    "from opennempy import web_api\n",
    "import datetime"
   ]
  },
  {
   "cell_type": "markdown",
   "metadata": {},
   "source": [
    "These are the standard statistical modedules that are highly useful"
   ]
  },
  {
   "cell_type": "code",
   "execution_count": null,
   "metadata": {},
   "outputs": [],
   "source": [
    "from matplotlib import pyplot as plt\n",
    "import numpy as np\n",
    "import pandas as pd\n",
    "import seaborn as sns\n"
   ]
  },
  {
   "cell_type": "markdown",
   "metadata": {},
   "source": [
    "A little function to rename the columns of the dataframes to allow for merging.\n"
   ]
  },
  {
   "cell_type": "code",
   "execution_count": null,
   "metadata": {},
   "outputs": [],
   "source": [
    "def column_state(df,state):\n",
    "    return [state+'_'+col for col in df.columns]"
   ]
  },
  {
   "cell_type": "markdown",
   "metadata": {},
   "source": [
    "This step downloads each states data set for the period from October 20 2017 to January 20 2019. This gives me a 15 month period for each state.  "
   ]
  },
  {
   "cell_type": "code",
   "execution_count": null,
   "metadata": {},
   "outputs": [],
   "source": [
    "vic_df_5, vic_df_30 = web_api.load_data(d1 = datetime.datetime(2017,10,20), \n",
    "                                d2 = datetime.datetime(2019,1,20), \n",
    "                                region='vic1')\n",
    "vic_df_5.columns = column_state(vic_df_5,'VIC')\n",
    "vic_df_30.columns = column_state(vic_df_30,'VIC')\n",
    "\n",
    "\n",
    "tas_df_5, tas_df_30 = web_api.load_data(d1 = datetime.datetime(2017,10,20), \n",
    "                                d2 = datetime.datetime(2019,1,20), \n",
    "                                region='tas1')\n",
    "tas_df_5.columns = column_state(tas_df_5,'TAS')\n",
    "tas_df_30.columns = column_state(tas_df_30,'TAS')\n",
    "nsw_df_5, nsw_df_30 = web_api.load_data(d1 = datetime.datetime(2017,10,20), \n",
    "                                d2 = datetime.datetime(2019,1,20), \n",
    "                                region='nsw1')\n",
    "nsw_df_5.columns = column_state(nsw_df_5,'NSW')\n",
    "nsw_df_30.columns = column_state(nsw_df_30,'NSW')\n",
    "qld_df_5, qld_df_30 = web_api.load_data(d1 = datetime.datetime(2017,10,20), \n",
    "                                d2 = datetime.datetime(2019,1,20), \n",
    "                                region='qld1')\n",
    "qld_df_5.columns = column_state(qld_df_5,'QLD')\n",
    "qld_df_30.columns = column_state(qld_df_30,'QLD')\n",
    "sa_df_5, sa_df_30 = web_api.load_data(d1 = datetime.datetime(2017,10,20), \n",
    "                                d2 = datetime.datetime(2019,1,20), \n",
    "                                region='sa1')\n",
    "sa_df_5.columns = column_state(sa_df_5,'SA')\n",
    "sa_df_30.columns = column_state(sa_df_30,'SA')"
   ]
  },
  {
   "cell_type": "markdown",
   "metadata": {},
   "source": [
    "Concatenating the 30 minute dataframes for each state together"
   ]
  },
  {
   "cell_type": "code",
   "execution_count": null,
   "metadata": {
    "scrolled": false
   },
   "outputs": [],
   "source": [
    "df_30 = pd.concat([vic_df_30,\n",
    "tas_df_30,\n",
    "nsw_df_30,\n",
    "qld_df_30,\n",
    "sa_df_30],axis='columns')"
   ]
  },
  {
   "cell_type": "markdown",
   "metadata": {},
   "source": [
    "Concatenating the 5 minute dataframes for each state together"
   ]
  },
  {
   "cell_type": "code",
   "execution_count": null,
   "metadata": {},
   "outputs": [],
   "source": [
    "df_5 = pd.concat([vic_df_5,\n",
    "tas_df_5,\n",
    "nsw_df_5,\n",
    "qld_df_5,\n",
    "sa_df_5],axis='columns')"
   ]
  },
  {
   "cell_type": "code",
   "execution_count": null,
   "metadata": {},
   "outputs": [],
   "source": []
  },
  {
   "cell_type": "code",
   "execution_count": null,
   "metadata": {},
   "outputs": [],
   "source": [
    "vic_demand = df_5.resample('1D').mean()['VIC_DEMAND']\n",
    "tas_demand = df_5.resample('1D').mean()['TAS_DEMAND']\n",
    "qld_demand = df_5.resample('1D').mean()['QLD_DEMAND']\n",
    "nsw_demand = df_5.resample('1D').mean()['NSW_DEMAND']\n",
    "sa_demand = df_5.resample('1D').mean()['SA_DEMAND']"
   ]
  },
  {
   "cell_type": "code",
   "execution_count": null,
   "metadata": {},
   "outputs": [],
   "source": [
    "plt.style.use('bmh')\n",
    "fig, ax = plt.subplots(figsize = (16, 8))\n",
    "plt.title('Daily mean electricity demand by state', fontsize=24)\n",
    "ax.set_ylabel('Power (MW)', fontsize=16)\n",
    "ax.set_xlabel('Date', fontsize=16)\n",
    "plt.plot(vic_demand)\n",
    "plt.plot(nsw_demand)\n",
    "plt.plot(qld_demand)\n",
    "plt.plot(sa_demand)\n",
    "plt.plot(tas_demand)\n",
    "\n",
    "ax.legend((\"VIC\",\"NSW\",\"QLD\",\"SA\",\"TAS\"), loc='upper center', shadow=True, ncol=5, bbox_to_anchor=(0.5, -0.075), fancybox=True, fontsize=16)"
   ]
  },
  {
   "cell_type": "code",
   "execution_count": null,
   "metadata": {},
   "outputs": [],
   "source": [
    "plt.style.use('bmh')\n",
    "fig, ax = plt.subplots(figsize = (16, 8))\n",
    "plt.title('5 minute electricity demand by state', fontsize=24)\n",
    "ax.set_ylabel('Power (MW)', fontsize=16)\n",
    "ax.set_xlabel('Date', fontsize=16)\n",
    "plt.plot(df_5['VIC_DEMAND'])\n",
    "plt.plot(df_5['NSW_DEMAND'])\n",
    "plt.plot(df_5['QLD_DEMAND'])\n",
    "plt.plot(df_5['SA_DEMAND'])\n",
    "plt.plot(df_5['TAS_DEMAND'])\n",
    "\n",
    "ax.legend((\"VIC\",\"NSW\",\"QLD\",\"SA\",\"TAS\"), loc='upper center', shadow=True, ncol=5,bbox_to_anchor=(0.5, -0.075), fancybox=True, fontsize=16)"
   ]
  },
  {
   "cell_type": "code",
   "execution_count": null,
   "metadata": {},
   "outputs": [],
   "source": [
    "print(plt.style.available)"
   ]
  },
  {
   "cell_type": "code",
   "execution_count": null,
   "metadata": {},
   "outputs": [],
   "source": [
    "plt.style.use('bmh')\n",
    "fig, ax = plt.subplots(figsize = (16, 10))\n",
    "plt.title('Daily Mean Wind Power by State', fontsize=20)\n",
    "ax.set_ylabel('Power (MW)', fontsize=16)\n",
    "ax.set_xlabel('Date', fontsize=16)\n",
    "plt.plot(df_5.resample('1D').mean()['VIC_WIND'])\n",
    "plt.plot(df_5.resample('1D').mean()['NSW_WIND'])\n",
    "plt.plot(df_5.resample('1D').mean()['QLD_WIND'])\n",
    "plt.plot(df_5.resample('1D').mean()['SA_WIND'])\n",
    "plt.plot(df_5.resample('1D').mean()['TAS_WIND'])\n",
    "\n",
    "ax.legend((\"VIC\",\"NSW\",\"QLD\",\"SA\",\"TAS\"), loc='upper center', bbox_to_anchor=(0.5, -0.075), \\\n",
    "          shadow=True, ncol=5, fancybox=True, fontsize=16)"
   ]
  },
  {
   "cell_type": "code",
   "execution_count": null,
   "metadata": {},
   "outputs": [],
   "source": [
    "vic_demand = vic_df_5.resample('1D').mean()['VIC_DEMAND']\n",
    "tas_demand = tas_df_5.resample('1D').mean()['TAS_DEMAND']\n",
    "qld_demand = qld_df_5.resample('1D').mean()['QLD_DEMAND']\n",
    "nsw_demand = nsw_df_5.resample('1D').mean()['NSW_DEMAND']\n",
    "sa_demand = sa_df_5.resample('1D').mean()['SA_DEMAND']"
   ]
  },
  {
   "cell_type": "code",
   "execution_count": null,
   "metadata": {},
   "outputs": [],
   "source": [
    "plt.style.use('bmh')\n",
    "fig, ax = plt.subplots(figsize = (16, 10))\n",
    "plt.title('Daily Mean Rooftop Solar Power by State', fontsize=20)\n",
    "ax.set_ylabel('Power (MW)', fontsize=16)\n",
    "ax.set_xlabel('Date', fontsize=16)\n",
    "plt.plot(df_30.resample('1D').mean()['VIC_ROOFTOP_SOLAR'])\n",
    "plt.plot(df_30.resample('1D').mean()['NSW_ROOFTOP_SOLAR'])\n",
    "plt.plot(df_30.resample('1D').mean()['QLD_ROOFTOP_SOLAR'])\n",
    "plt.plot(df_30.resample('1D').mean()['SA_ROOFTOP_SOLAR'])\n",
    "plt.plot(df_30.resample('1D').mean()['TAS_ROOFTOP_SOLAR'])\n",
    "\n",
    "ax.legend((\"VIC\",\"NSW\",\"QLD\",\"SA\",\"TAS\"), loc='upper center', bbox_to_anchor=(0.5, -0.075), \\\n",
    "          shadow=True, ncol=5, fancybox=True, fontsize=16)"
   ]
  },
  {
   "cell_type": "code",
   "execution_count": null,
   "metadata": {},
   "outputs": [],
   "source": [
    "plt.style.use('bmh')\n",
    "fig, ax = plt.subplots(figsize = (16, 10))\n",
    "plt.title('Daily Mean Price per MW by State', fontsize=20)\n",
    "ax.set_ylabel('Price ($)', fontsize=16)\n",
    "ax.set_xlabel('Date', fontsize=16)\n",
    "plt.plot(df_30.resample('1D').mean()['VIC_PRICE'])\n",
    "plt.plot(df_30.resample('1D').mean()['NSW_PRICE'])\n",
    "plt.plot(df_30.resample('1D').mean()['QLD_PRICE'])\n",
    "plt.plot(df_30.resample('1D').mean()['SA_PRICE'])\n",
    "plt.plot(df_30.resample('1D').mean()['TAS_PRICE'])\n",
    "plt.ylim(0,250)\n",
    "ax.legend((\"VIC\",\"NSW\",\"QLD\",\"SA\",\"TAS\"), loc='upper center', bbox_to_anchor=(0.5, -0.075), \\\n",
    "          shadow=True, ncol=5, fancybox=True, fontsize=16)"
   ]
  },
  {
   "cell_type": "code",
   "execution_count": null,
   "metadata": {},
   "outputs": [],
   "source": [
    "plt.style.use('bmh')\n",
    "fig, ax = plt.subplots(figsize = (16, 10))\n",
    "plt.title('Half-Hourly Price per MW by State', fontsize=20)\n",
    "ax.set_ylabel('Price ($)', fontsize=16)\n",
    "ax.set_xlabel('Date', fontsize=16)\n",
    "plt.plot(df_30['VIC_PRICE'])\n",
    "plt.plot(df_30['NSW_PRICE'])\n",
    "plt.plot(df_30['QLD_PRICE'])\n",
    "plt.plot(df_30['SA_PRICE'])\n",
    "plt.plot(df_30['TAS_PRICE'])\n",
    "\n",
    "ax.legend((\"VIC\",\"NSW\",\"QLD\",\"SA\",\"TAS\"), loc='upper center', bbox_to_anchor=(0.5, -0.075), \\\n",
    "          shadow=True, ncol=5, fancybox=True, fontsize=16)"
   ]
  },
  {
   "cell_type": "code",
   "execution_count": null,
   "metadata": {},
   "outputs": [],
   "source": [
    "vic_df_5.fillna(0)\n",
    "nsw_df_5.fillna(0)\n",
    "sa_df_5.fillna(0)\n",
    "qld_df_5.fillna(0)\n",
    "tas_df_5.fillna(0)"
   ]
  },
  {
   "cell_type": "code",
   "execution_count": null,
   "metadata": {},
   "outputs": [],
   "source": [
    "plt.style.use('bmh')\n",
    "fig, ax = plt.subplots(figsize = (16, 8))\n",
    "plt.title('Mean Power Imports by State', fontsize=20)\n",
    "ax.set_ylabel('Power (MW)', fontsize=16)\n",
    "ax.set_xlabel('Date', fontsize=16)\n",
    "plt.plot(vic_df_5.resample('1D').mean()['VIC_NETINTERCHANGE'])\n",
    "plt.plot(nsw_df_5.resample('1D').mean()['NSW_NETINTERCHANGE'])\n",
    "plt.plot(qld_df_5.resample('1D').mean()['QLD_NETINTERCHANGE'])\n",
    "plt.plot(sa_df_5.resample('1D').mean()['SA_NETINTERCHANGE'])\n",
    "plt.plot(tas_df_5.resample('1D').mean()['TAS_NETINTERCHANGE'])\n",
    "\n",
    "ax.legend((\"VIC\",\"NSW\",\"QLD\",\"SA\",\"TAS\"), loc='upper center', bbox_to_anchor=(0.5, -0.075), \\\n",
    "          shadow=True, ncol=5, fancybox=True, fontsize=16)"
   ]
  },
  {
   "cell_type": "code",
   "execution_count": null,
   "metadata": {},
   "outputs": [],
   "source": [
    "plt.style.use('seaborn')\n",
    "plt.scatter(vic_df_30.resample('1D').mean()['VIC_PRICE'],vic_df_30.resample('1D').max()['VIC_TEMPERATURE'])\n"
   ]
  },
  {
   "cell_type": "code",
   "execution_count": null,
   "metadata": {},
   "outputs": [],
   "source": [
    "vic_temp_max = vic_df_30.resample('1D').max()['VIC_TEMPERATURE']\n",
    "nsw_temp_max = nsw_df_30.resample('1D').max()['NSW_TEMPERATURE']\n",
    "qld_temp_max = qld_df_30.resample('1D').max()['QLD_TEMPERATURE']\n",
    "tas_temp_max = tas_df_30.resample('1D').max()['TAS_TEMPERATURE']\n",
    "sa_temp_max = sa_df_30.resample('1D').max()['SA_TEMPERATURE']\n",
    "\n",
    "plt.scatter(vic_demand,vic_temp_max)"
   ]
  },
  {
   "cell_type": "code",
   "execution_count": null,
   "metadata": {},
   "outputs": [],
   "source": [
    "from sklearn.covariance import EllipticEnvelope\n",
    "\n",
    "outliers = EllipticEnvelope()\n",
    "\n",
    "outliers.fit(df_30.fillna(0))\n",
    "\n",
    "df_30['mahalonobis']=outliers.mahalanobis(df_30.fillna(0))\n",
    "\n",
    "df_30.mahalonobis.plot()"
   ]
  },
  {
   "cell_type": "code",
   "execution_count": null,
   "metadata": {},
   "outputs": [],
   "source": [
    "#Investigating what days the mean was outlying. South Australia had the largest. \n",
    "df_30.resample('1D').mean()['SA_PRICE'].sort_values()"
   ]
  },
  {
   "cell_type": "code",
   "execution_count": null,
   "metadata": {},
   "outputs": [],
   "source": [
    "#Merging the five minute and thirty minute data sets. \n",
    "set(df_5.resample('30MIN').mean().index).symmetric_difference(df_30.index)\n",
    "\n",
    "HalfHourly = pd.merge( df_5.resample('30MIN').mean(), df_30, left_index=True, right_index=True)"
   ]
  },
  {
   "cell_type": "code",
   "execution_count": null,
   "metadata": {},
   "outputs": [],
   "source": [
    "HalfHourly.VIC_PRICE.plot()"
   ]
  },
  {
   "cell_type": "code",
   "execution_count": null,
   "metadata": {},
   "outputs": [],
   "source": [
    "HalfHourly[[\"VIC_PRICE\",\"NSW_PRICE\",\"QLD_PRICE\",\"SA_PRICE\",\"TAS_PRICE\"]].boxplot(figsize=(16,10))"
   ]
  },
  {
   "cell_type": "code",
   "execution_count": null,
   "metadata": {},
   "outputs": [],
   "source": [
    "HalfHourly[[\"VIC_PRICE\",\"NSW_PRICE\",\"QLD_PRICE\",\"SA_PRICE\",\"TAS_PRICE\"]].mean()"
   ]
  },
  {
   "cell_type": "code",
   "execution_count": null,
   "metadata": {},
   "outputs": [],
   "source": [
    "HalfHourly[[\"VIC_PRICE\",\"NSW_PRICE\",\"QLD_PRICE\",\"SA_PRICE\",\"TAS_PRICE\"]].std()\n"
   ]
  },
  {
   "cell_type": "code",
   "execution_count": null,
   "metadata": {},
   "outputs": [],
   "source": [
    "Box30MIN = HalfHourly[[\"VIC_PRICE\",\"NSW_PRICE\",\"QLD_PRICE\",\"SA_PRICE\",\"TAS_PRICE\"]].resample('1D').mean()\n",
    "Box30MIN.boxplot(figsize=(16,10))"
   ]
  },
  {
   "cell_type": "code",
   "execution_count": null,
   "metadata": {},
   "outputs": [],
   "source": [
    "HalfHourly[[\"VIC_PRICE\",\"NSW_PRICE\",\"QLD_PRICE\",\"SA_PRICE\",\"TAS_PRICE\"]].resample('1D').mean().mean()\n"
   ]
  },
  {
   "cell_type": "code",
   "execution_count": null,
   "metadata": {},
   "outputs": [],
   "source": [
    "HalfHourly[[\"VIC_PRICE\",\"NSW_PRICE\",\"QLD_PRICE\",\"SA_PRICE\",\"TAS_PRICE\"]].resample('1D').std().std()"
   ]
  },
  {
   "cell_type": "code",
   "execution_count": null,
   "metadata": {},
   "outputs": [],
   "source": [
    "HalfHourly[[\"VIC_DEMAND\",\"NSW_DEMAND\",\"QLD_DEMAND\",\"SA_DEMAND\",\"TAS_DEMAND\"]].boxplot(figsize=(16,10))"
   ]
  },
  {
   "cell_type": "code",
   "execution_count": null,
   "metadata": {},
   "outputs": [],
   "source": [
    "#HalfHourly[[\"VIC_DEMAND\",\"NSW_DEMAND\",\"QLD_DEMAND\",\"SA_DEMAND\",\"TAS_DEMAND\"]].resample('1D').boxplot(figsize=(16,10))"
   ]
  },
  {
   "cell_type": "code",
   "execution_count": null,
   "metadata": {},
   "outputs": [],
   "source": [
    "HalfHourly.to_csv('HalfHourly_Data.csv')"
   ]
  },
  {
   "cell_type": "code",
   "execution_count": null,
   "metadata": {},
   "outputs": [],
   "source": [
    "HalfHourly[[\"VIC_BROWN_COAL\",\"NSW_BLACK_COAL\",\"QLD_BLACK_COAL\"]].boxplot(figsize=(16,10))\n"
   ]
  },
  {
   "cell_type": "code",
   "execution_count": null,
   "metadata": {},
   "outputs": [],
   "source": [
    "HalfHourly[[\"VIC_WIND\",\"NSW_WIND\",\"QLD_WIND\",\"SA_WIND\",\"TAS_WIND\"]].boxplot(figsize=(16,10))"
   ]
  },
  {
   "cell_type": "code",
   "execution_count": null,
   "metadata": {
    "scrolled": false
   },
   "outputs": [],
   "source": [
    "#HalfHourly[[\"VIC_ROOFTOP_SOLAR\",\"NSW_ROOFTOP_SOLAR\",\"QLD_ROOFTOP_SOLAR\",\"SA_ROOFTOP_SOLAR\",\"TAS_ROOFTOP_SOLAR\"]].resample('1D').boxplot(figsize=(16,10))"
   ]
  },
  {
   "cell_type": "code",
   "execution_count": null,
   "metadata": {},
   "outputs": [],
   "source": [
    "HalfHourly.columns\n"
   ]
  },
  {
   "cell_type": "code",
   "execution_count": null,
   "metadata": {
    "scrolled": true
   },
   "outputs": [],
   "source": [
    "plt.scatter(HalfHourly['VIC_DEMAND'].resample('1D').mean(),HalfHourly['VIC_PRICE'].resample('1D').mean())"
   ]
  },
  {
   "cell_type": "code",
   "execution_count": null,
   "metadata": {},
   "outputs": [],
   "source": [
    "plt.scatter(HalfHourly['NSW_DEMAND'].resample('1D').mean(),HalfHourly['NSW_PRICE'].resample('1D').mean())"
   ]
  },
  {
   "cell_type": "code",
   "execution_count": null,
   "metadata": {},
   "outputs": [],
   "source": [
    "plt.scatter(HalfHourly['QLD_DEMAND'].resample('1D').mean(),HalfHourly['QLD_PRICE'].resample('1D').mean())"
   ]
  },
  {
   "cell_type": "code",
   "execution_count": null,
   "metadata": {},
   "outputs": [],
   "source": [
    "plt.scatter(HalfHourly['SA_DEMAND'].resample('1D').mean(),HalfHourly['SA_PRICE'].resample('1D').mean())"
   ]
  },
  {
   "cell_type": "code",
   "execution_count": null,
   "metadata": {},
   "outputs": [],
   "source": [
    "plt.scatter(HalfHourly['TAS_DEMAND'].resample('1D').mean(),HalfHourly['TAS_PRICE'].resample('1D').mean())"
   ]
  },
  {
   "cell_type": "code",
   "execution_count": null,
   "metadata": {},
   "outputs": [],
   "source": [
    "HalfHourly[['VIC_PRICE','NSW_PRICE','QLD_PRICE','SA_PRICE','TAS_PRICE']].corr()"
   ]
  },
  {
   "cell_type": "code",
   "execution_count": null,
   "metadata": {},
   "outputs": [],
   "source": [
    "HalfHourly[['VIC_DEMAND','NSW_DEMAND','QLD_DEMAND','SA_DEMAND','TAS_DEMAND']].corr()"
   ]
  },
  {
   "cell_type": "code",
   "execution_count": null,
   "metadata": {},
   "outputs": [],
   "source": [
    "HalfHourly.index"
   ]
  },
  {
   "cell_type": "code",
   "execution_count": null,
   "metadata": {},
   "outputs": [],
   "source": [
    "HalfHourly.index.dtype\n"
   ]
  },
  {
   "cell_type": "code",
   "execution_count": null,
   "metadata": {},
   "outputs": [],
   "source": [
    "from dateutil.relativedelta import relativedelta\n",
    "import statsmodels.api as sm  \n",
    "from statsmodels.tsa.stattools import acf  \n",
    "from statsmodels.tsa.stattools import pacf\n",
    "from statsmodels.tsa.seasonal import seasonal_decompose"
   ]
  },
  {
   "cell_type": "code",
   "execution_count": null,
   "metadata": {},
   "outputs": [],
   "source": [
    "HalfHourly[\"Min\"] = HalfHourly.index.minute\n",
    "HalfHourly[\"Hour\"] = HalfHourly.index.hour\n",
    "\n",
    "HalfHourly[\"DayOfWeek\"] = HalfHourly.index.weekday\n",
    "\n",
    "dayOfWeek={0:'Monday', 1:'Tuesday', 2:'Wednesday', 3:'Thursday', 4:'Friday', 5:'Saturday', 6:'Sunday'}\n",
    "HalfHourly['Weekday'] = HalfHourly[\"DayOfWeek\"].map(dayOfWeek)"
   ]
  },
  {
   "cell_type": "code",
   "execution_count": null,
   "metadata": {
    "scrolled": false
   },
   "outputs": [],
   "source": [
    "HalfHourly[\"VIC_DEMAND\"]\n",
    "decomposition = seasonal_decompose(HalfHourly[\"VIC_DEMAND\"], freq=48*7*4)  \n",
    "fig = plt.figure()  \n",
    "fig = decomposition.plot()  \n",
    "fig.set_size_inches(12, 6)"
   ]
  },
  {
   "cell_type": "code",
   "execution_count": null,
   "metadata": {},
   "outputs": [],
   "source": [
    "# define Dickey-Fuller test\n",
    "from statsmodels.tsa.stattools import adfuller\n",
    "def test_stationarity(timeseries):\n",
    "\n",
    "    #Determing rolling statistics\n",
    "    rolmean = timeseries.rolling(window=48, center=False).mean()\n",
    "    rolstd = timeseries.rolling(window=48, center=False).std()\n",
    "\n",
    "    #Plot rolling statistics:\n",
    "    fig = plt.figure(figsize=(12, 8))\n",
    "    orig = plt.plot(timeseries, color='blue',label='Original')\n",
    "    mean = plt.plot(rolmean, color='red', label='Rolling Mean')\n",
    "    std = plt.plot(rolstd, color='black', label = 'Rolling Std')\n",
    "    plt.legend(loc='best')\n",
    "    plt.title('Rolling Mean & Standard Deviation')\n",
    "    plt.show()\n",
    "    \n",
    "    #Perform Dickey-Fuller test:\n",
    "    print('Results of Dickey-Fuller Test:')\n",
    "    dftest = adfuller(timeseries, autolag='AIC')\n",
    "    dfoutput = pd.Series(dftest[0:4], index=['Test Statistic','p-value','#Lags Used','Number of Observations Used'])\n",
    "    for key,value in list(dftest[4].items()):\n",
    "        dfoutput['Critical Value (%s)'%key] = value\n",
    "    print(dfoutput) \n"
   ]
  },
  {
   "cell_type": "code",
   "execution_count": null,
   "metadata": {},
   "outputs": [],
   "source": [
    "test_stationarity(HalfHourly.VIC_DEMAND)"
   ]
  },
  {
   "cell_type": "code",
   "execution_count": null,
   "metadata": {},
   "outputs": [],
   "source": [
    "test_stationarity(HalfHourly.NSW_DEMAND)"
   ]
  },
  {
   "cell_type": "code",
   "execution_count": null,
   "metadata": {},
   "outputs": [],
   "source": [
    "timeseries = HalfHourly.VIC_PRICE\n",
    "\n",
    "rolmean = timeseries.rolling(window=48, center=False).mean()\n",
    "rolstd = timeseries.rolling(window=48, center=False).std()"
   ]
  },
  {
   "cell_type": "code",
   "execution_count": null,
   "metadata": {
    "scrolled": false
   },
   "outputs": [],
   "source": [
    "\n",
    "test_stationarity(rolmean.dropna())"
   ]
  },
  {
   "cell_type": "code",
   "execution_count": null,
   "metadata": {},
   "outputs": [],
   "source": [
    "# HalfHourly.VIC_PRICE.dropna().resample('D').mean()"
   ]
  },
  {
   "cell_type": "code",
   "execution_count": null,
   "metadata": {},
   "outputs": [],
   "source": []
  },
  {
   "cell_type": "code",
   "execution_count": null,
   "metadata": {},
   "outputs": [],
   "source": [
    "model = sm.tsa.ARMA(HalfHourly.VIC_PRICE.dropna().resample('W').mean(),order=(6,4))"
   ]
  },
  {
   "cell_type": "code",
   "execution_count": null,
   "metadata": {},
   "outputs": [],
   "source": [
    "results = model.fit(trend='nc')"
   ]
  },
  {
   "cell_type": "code",
   "execution_count": null,
   "metadata": {},
   "outputs": [],
   "source": [
    "results.summary()"
   ]
  },
  {
   "cell_type": "code",
   "execution_count": null,
   "metadata": {},
   "outputs": [],
   "source": []
  },
  {
   "cell_type": "code",
   "execution_count": null,
   "metadata": {},
   "outputs": [],
   "source": [
    "(HalfHourly.NSW_ROOFTOP_SOLAR.resample('Q').mean()).plot()\n",
    "(HalfHourly.NSW_ROOFTOP_SOLAR.resample('M').mean()).plot()\n",
    "(HalfHourly.NSW_ROOFTOP_SOLAR.resample('w').mean()).plot()\n"
   ]
  },
  {
   "cell_type": "code",
   "execution_count": null,
   "metadata": {},
   "outputs": [],
   "source": [
    "(HalfHourly.NSW_ROOFTOP_SOLAR.resample('D').mean()).plot()"
   ]
  },
  {
   "cell_type": "code",
   "execution_count": null,
   "metadata": {
    "scrolled": false
   },
   "outputs": [],
   "source": [
    "test_stationarity(HalfHourly.VIC_PRICE.dropna())"
   ]
  },
  {
   "cell_type": "code",
   "execution_count": null,
   "metadata": {},
   "outputs": [],
   "source": [
    "plt.style.use('bmh')\n",
    "fig, ax = plt.subplots(figsize = (16, 8))\n",
    "plt.title('Generation in a week in Victoria', fontsize=20)\n",
    "ax.set_ylabel('Power (MW)', fontsize=16)\n",
    "x = 20112\n",
    "plt.plot(HalfHourly['VIC_BROWN_COAL'][x:x+336], alpha = 0.8 )\n",
    "\n",
    "plt.plot(HalfHourly['VIC_NETINTERCHANGE'][x:x+336], alpha = 0.8 )\n",
    "plt.plot(HalfHourly['VIC_BATTERY'][x:x+336], alpha = 0.8 )\n",
    "\n",
    "plt.plot(HalfHourly['VIC_GAS_CCGT'][x:x+336], alpha = 0.8 )\n",
    "plt.plot(HalfHourly['VIC_GAS_OCGT'][x:x+336], alpha = 0.8 )\n",
    "plt.plot(HalfHourly['VIC_GAS_STEAM'][x:x+336], alpha = 0.8 )\n",
    "plt.plot(HalfHourly['VIC_HYDRO'][x:x+336], alpha = 0.8 )\n",
    "plt.plot(HalfHourly['VIC_SOLAR'][x:x+336], alpha = 0.8 )\n",
    "plt.plot(HalfHourly['VIC_ROOFTOP_SOLAR'][x:x+336], alpha = 0.8 )\n",
    "plt.plot(HalfHourly['VIC_WIND'][x:x+336], alpha = 0.8 )\n",
    "ax.legend((\"Brown Coal\",\"Interchange\",\"Battery\",\"Gas CCGT\",\"Gas OCGT\", \"Gas Steam\", \"Hydro\", \"Solar\", \"Rooftop Solar\", \"Wind\"), loc='upper center', bbox_to_anchor=(0.5, -0.075), \\\n",
    "          shadow=True, ncol=5, fancybox=True, fontsize=16)"
   ]
  },
  {
   "cell_type": "code",
   "execution_count": null,
   "metadata": {},
   "outputs": [],
   "source": [
    "plt.style.use('bmh')\n",
    "fig, ax = plt.subplots(figsize = (16, 8))\n",
    "plt.title('Generation in a week in South Australia', fontsize=20)\n",
    "ax.set_ylabel('Power (MW)', fontsize=16)\n",
    "x = 20112\n",
    "\n",
    "\n",
    "plt.plot(HalfHourly['SA_NETINTERCHANGE'][x:x+336], alpha = 0.8 )\n",
    "plt.plot(HalfHourly['SA_BATTERY'][x:x+336], alpha = 0.8 )\n",
    "\n",
    "plt.plot(HalfHourly['SA_GAS_CCGT'][x:x+336], alpha = 0.8 )\n",
    "plt.plot(HalfHourly['SA_GAS_OCGT'][x:x+336], alpha = 0.8 )\n",
    "plt.plot(HalfHourly['SA_GAS_STEAM'][x:x+336], alpha = 0.8 )\n",
    "\n",
    "plt.plot(HalfHourly['SA_SOLAR'][x:x+336], alpha = 0.8 )\n",
    "plt.plot(HalfHourly['SA_ROOFTOP_SOLAR'][x:x+336], alpha = 0.8 )\n",
    "plt.plot(HalfHourly['SA_WIND'][x:x+336], alpha = 0.8 )\n",
    "ax.legend((\"Interchange\",\"Battery\",\"Gas CCGT\",\"Gas OCGT\", \"Gas Steam\", \"Solar\", \"Rooftop Solar\", \"Wind\"), loc='upper center', bbox_to_anchor=(0.5, -0.075), \\\n",
    "          shadow=True, ncol=5, fancybox=True, fontsize=16)"
   ]
  },
  {
   "cell_type": "code",
   "execution_count": null,
   "metadata": {},
   "outputs": [],
   "source": [
    "HalfHourly.groupby(\"DayOfWeek\").agg(['mean','median','std','skew'])['VIC_PRICE'].plot.bar()"
   ]
  },
  {
   "cell_type": "code",
   "execution_count": null,
   "metadata": {},
   "outputs": [],
   "source": [
    "# 0 -> monday\n",
    "#  choose a time period to charge -> calculate cost\n",
    "# pick a continuos 4 hr period to charge over\n",
    "# what is the minimun (median or mean price for a day )\\\n",
    "# between 0,1,5,6 determine if there is a significanet difference in price..."
   ]
  },
  {
   "cell_type": "code",
   "execution_count": null,
   "metadata": {},
   "outputs": [],
   "source": []
  },
  {
   "cell_type": "code",
   "execution_count": null,
   "metadata": {},
   "outputs": [],
   "source": [
    "HalfHourly.groupby('Hour').agg(['mean','median', 'std'])['VIC_PRICE'].plot.bar(figsize=(12,8))"
   ]
  },
  {
   "cell_type": "code",
   "execution_count": null,
   "metadata": {},
   "outputs": [],
   "source": [
    "VIC_PRICE_MEAN_WEEKDAY = HalfHourly.groupby([\"DayOfWeek\",\"Hour\"]).agg(['mean'])['VIC_PRICE'].unstack().T\n",
    "VIC_PRICE_MEAN_WEEKDAY.columns = (\"Monday\",\"Tuesday\",\"Wednesday\",\"Thursday\",\"Friday\",\"Saturday\",\"Sunday\")\n",
    "VIC_PRICE_MEDIAN_WEEKDAY = HalfHourly.groupby([\"DayOfWeek\",\"Hour\"]).agg(['median'])['VIC_PRICE'].unstack().T\n",
    "VIC_PRICE_MEDIAN_WEEKDAY.columns = (\"Monday\",\"Tuesday\",\"Wednesday\",\"Thursday\",\"Friday\",\"Saturday\",\"Sunday\")\n",
    "VIC_PRICE_MEAN_WEEKDAY = VIC_PRICE_MEAN_WEEKDAY.set_index(VIC_PRICE_MEAN_WEEKDAY.index.get_level_values(1))\n",
    "VIC_PRICE_MEDIAN_WEEKDAY =  VIC_PRICE_MEDIAN_WEEKDAY.set_index(VIC_PRICE_MEDIAN_WEEKDAY.index.get_level_values(1))"
   ]
  },
  {
   "cell_type": "code",
   "execution_count": null,
   "metadata": {},
   "outputs": [],
   "source": []
  },
  {
   "cell_type": "code",
   "execution_count": null,
   "metadata": {},
   "outputs": [],
   "source": [
    "VIC_PRICE_MEDIAN_WEEKDAY.plot(figsize=(16,10))"
   ]
  },
  {
   "cell_type": "code",
   "execution_count": null,
   "metadata": {},
   "outputs": [],
   "source": []
  },
  {
   "cell_type": "code",
   "execution_count": null,
   "metadata": {},
   "outputs": [],
   "source": [
    "import scipy.stats as stats\n",
    "from itertools import combinations"
   ]
  },
  {
   "cell_type": "code",
   "execution_count": null,
   "metadata": {},
   "outputs": [],
   "source": [
    "A = HalfHourly.groupby(\"DayOfWeek\")['VIC_PRICE'].transform(lambda x:x)\n",
    "\n",
    "VIC_PRICE = pd.DataFrame()\n",
    "\n",
    "prices=  []\n",
    "for col in range(7):\n",
    "    prices.append(A[A.index.weekday==col].resample('d').mean().dropna().reset_index(drop=True))\n",
    "\n",
    "VIC_PRICE = pd.concat(prices,axis=1)\n",
    "VIC_PRICE.columns = list(range(7))"
   ]
  },
  {
   "cell_type": "code",
   "execution_count": null,
   "metadata": {},
   "outputs": [],
   "source": [
    "scores={}\n",
    "\n",
    "for comparision in combinations(range(7),2):\n",
    "    A = VIC_PRICE[comparision[0]].dropna()\n",
    "    B = VIC_PRICE[comparision[1]].dropna()\n",
    "    scores.update({comparision:[ stats.ttest_ind(A,B).statistic.round(3), stats.ttest_ind(A,B).pvalue.round(3)]})"
   ]
  },
  {
   "cell_type": "code",
   "execution_count": null,
   "metadata": {},
   "outputs": [],
   "source": [
    "[days for days,test_values in scores.items() if test_values[1] <0.05]\n",
    "# df[df.sort_values(1)[1]<0.05].index"
   ]
  },
  {
   "cell_type": "code",
   "execution_count": null,
   "metadata": {},
   "outputs": [],
   "source": [
    "[days for days,test_values in scores.items() if test_values[1]>0.05]"
   ]
  },
  {
   "cell_type": "code",
   "execution_count": null,
   "metadata": {},
   "outputs": [],
   "source": [
    "VIC_PRICE.mean().sort_values()"
   ]
  },
  {
   "cell_type": "code",
   "execution_count": null,
   "metadata": {
    "scrolled": true
   },
   "outputs": [],
   "source": [
    "D = HalfHourly.groupby(\"DayOfWeek\")['VIC_DEMAND'].transform(lambda x:x)\n",
    "\n",
    "VIC_DEMAND = pd.DataFrame()\n",
    "\n",
    "demand=  []\n",
    "for col in range(7):\n",
    "    demand.append(D[D.index.weekday==col].resample('d').mean().dropna().reset_index(drop=True))\n",
    "\n",
    "VIC_DEMAND = pd.concat(demand,axis=1)\n",
    "VIC_DEMAND.columns = list(range(7))"
   ]
  },
  {
   "cell_type": "code",
   "execution_count": null,
   "metadata": {},
   "outputs": [],
   "source": [
    "scoresD={}\n",
    "\n",
    "for comparision in combinations(range(7),2):\n",
    "    A = VIC_DEMAND[comparision[0]].dropna()\n",
    "    B = VIC_DEMAND[comparision[1]].dropna()\n",
    "    scoresD.update({comparision:[ stats.ttest_ind(A,B).statistic.round(3), stats.ttest_ind(A,B).pvalue.round(3)]})"
   ]
  },
  {
   "cell_type": "code",
   "execution_count": null,
   "metadata": {},
   "outputs": [],
   "source": [
    "scoresD\n"
   ]
  },
  {
   "cell_type": "code",
   "execution_count": null,
   "metadata": {},
   "outputs": [],
   "source": []
  },
  {
   "cell_type": "markdown",
   "metadata": {},
   "source": [
    "# "
   ]
  }
 ],
 "metadata": {
  "kernelspec": {
   "display_name": "Python 3",
   "language": "python",
   "name": "python3"
  },
  "language_info": {
   "codemirror_mode": {
    "name": "ipython",
    "version": 3
   },
   "file_extension": ".py",
   "mimetype": "text/x-python",
   "name": "python",
   "nbconvert_exporter": "python",
   "pygments_lexer": "ipython3",
   "version": "3.7.3"
  }
 },
 "nbformat": 4,
 "nbformat_minor": 2
}
